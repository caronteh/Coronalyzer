{
 "cells": [
  {
   "cell_type": "code",
   "execution_count": 2,
   "id": "3f050700-8a82-4929-96aa-164b4dae1593",
   "metadata": {},
   "outputs": [
    {
     "name": "stdin",
     "output_type": "stream",
     "text": [
      "Introduzca el codigo de la proteina para descargar: 7vx1\n"
     ]
    },
    {
     "name": "stdout",
     "output_type": "stream",
     "text": [
      "Downloading PDB structure '7vx1'...\n"
     ]
    }
   ],
   "source": [
    "from Bio.PDB import PDBList\n",
    "archivo=input(\"Introduzca el codigo de la proteina para descargar:\")\n",
    "pdbl=PDBList()\n",
    "pdbl1=[archivo]\n",
    "pdbl.download_pdb_files(pdbl1, pdir='PDB', file_format='mmCif')"
   ]
  },
  {
   "cell_type": "code",
   "execution_count": null,
   "id": "1e8f03ff-7c39-4285-956a-77449682d572",
   "metadata": {},
   "outputs": [],
   "source": [
    "import Bio\n",
    "import pylab\n",
    "import pandas as pd\n",
    "import nglview as nv\n",
    "from Bio.PDB import MMCIFParser\n",
    "\n",
    "def  visualizar_proteina():\n",
    "    global structure\n",
    "    nombre=input(\"Inserte el codigo de la proteína:\") \n",
    "    #find PDB file\n",
    "    parser = MMCIFParser()\n",
    "    structure = parser.get_structure('nombre', nombre+'.cif')\n",
    "    structure\n",
    "    structure[0]\n",
    "    #identify number of chains\n",
    "    for chain in structure[0]:\n",
    "        print(f'chain ID: {chain.id}')\n",
    "    nv.demo()\n",
    "    view = nv.show_biopython(structure)\n",
    "    view.render_image()\n",
    "    return (view, structure)\n",
    "\n",
    "visualizar_proteina()\n",
    "\n",
    "#GUI\n",
    "nv.show_biopython(structure, gui=True)"
   ]
  },
  {
   "cell_type": "code",
   "execution_count": null,
   "id": "a7a61469-68ba-47b7-8614-b745386beb01",
   "metadata": {},
   "outputs": [],
   "source": []
  }
 ],
 "metadata": {
  "kernelspec": {
   "display_name": "Python 3 (ipykernel)",
   "language": "python",
   "name": "python3"
  },
  "language_info": {
   "codemirror_mode": {
    "name": "ipython",
    "version": 3
   },
   "file_extension": ".py",
   "mimetype": "text/x-python",
   "name": "python",
   "nbconvert_exporter": "python",
   "pygments_lexer": "ipython3",
   "version": "3.9.7"
  },
  "toc-autonumbering": true,
  "toc-showcode": false
 },
 "nbformat": 4,
 "nbformat_minor": 5
}
